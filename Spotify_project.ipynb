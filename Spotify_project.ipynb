{
  "nbformat": 4,
  "nbformat_minor": 0,
  "metadata": {
    "colab": {
      "name": "Spotify_project.ipynb",
      "provenance": [],
      "collapsed_sections": [],
      "toc_visible": true
    },
    "kernelspec": {
      "display_name": "Python 3",
      "language": "python",
      "name": "python3"
    },
    "language_info": {
      "codemirror_mode": {
        "name": "ipython",
        "version": 3
      },
      "file_extension": ".py",
      "mimetype": "text/x-python",
      "name": "python",
      "nbconvert_exporter": "python",
      "pygments_lexer": "ipython3",
      "version": "3.8.5"
    }
  },
  "cells": [
    {
      "cell_type": "markdown",
      "metadata": {
        "id": "-8axazGGRlHM"
      },
      "source": [
        "1.Import the 'hot_songs.csv' file created in 'Webscraping.ipynb'\r\n",
        "2.Get song features from Spotify API\r\n",
        "3.Create clustering model based on dataset from 'https://www.kaggle.com/yamaerenay/spotify-dataset-19212020-160k-tracks'\r\n",
        "4.Create the prototype for the song-recommender: If the song input is in the 'hot songs' dataset, the app will recommend another song in the same dataset, if not the app will get the feature of the song input by using Spotify API, then return another song in the same cluster in Kaggle dataset."
      ]
    },
    {
      "cell_type": "code",
      "metadata": {
        "id": "AY_lCB0Bpo-q",
        "colab": {
          "base_uri": "https://localhost:8080/"
        },
        "outputId": "4fa6f730-052d-424b-84b1-afbba7d88a75"
      },
      "source": [
        "import pandas as pd\n",
        "import numpy as np\n",
        "from google.colab import drive\n",
        "drive.mount('/content/drive')"
      ],
      "execution_count": null,
      "outputs": [
        {
          "output_type": "stream",
          "text": [
            "Drive already mounted at /content/drive; to attempt to forcibly remount, call drive.mount(\"/content/drive\", force_remount=True).\n"
          ],
          "name": "stdout"
        }
      ]
    },
    {
      "cell_type": "markdown",
      "metadata": {
        "id": "JFGMKjDehQWI"
      },
      "source": [
        "### Get the Hot_Song \r\n"
      ]
    },
    {
      "cell_type": "code",
      "metadata": {
        "id": "SwFuS_zjhX9b"
      },
      "source": [
        "hot_song = pd.read_csv('/content/drive/MyDrive/hot_song.csv')"
      ],
      "execution_count": null,
      "outputs": []
    },
    {
      "cell_type": "code",
      "metadata": {
        "colab": {
          "base_uri": "https://localhost:8080/",
          "height": 402
        },
        "id": "E96gBE7ri1ng",
        "outputId": "8f77ddc5-577a-4ca9-e1cf-a590db53072f"
      },
      "source": [
        "hot_song"
      ],
      "execution_count": null,
      "outputs": [
        {
          "output_type": "execute_result",
          "data": {
            "text/html": [
              "<div>\n",
              "<style scoped>\n",
              "    .dataframe tbody tr th:only-of-type {\n",
              "        vertical-align: middle;\n",
              "    }\n",
              "\n",
              "    .dataframe tbody tr th {\n",
              "        vertical-align: top;\n",
              "    }\n",
              "\n",
              "    .dataframe thead th {\n",
              "        text-align: right;\n",
              "    }\n",
              "</style>\n",
              "<table border=\"1\" class=\"dataframe\">\n",
              "  <thead>\n",
              "    <tr style=\"text-align: right;\">\n",
              "      <th></th>\n",
              "      <th>song</th>\n",
              "      <th>artist</th>\n",
              "      <th>year</th>\n",
              "    </tr>\n",
              "  </thead>\n",
              "  <tbody>\n",
              "    <tr>\n",
              "      <th>0</th>\n",
              "      <td>Drivers License</td>\n",
              "      <td>Olivia Rodrigo</td>\n",
              "      <td>2021</td>\n",
              "    </tr>\n",
              "    <tr>\n",
              "      <th>1</th>\n",
              "      <td>34+35</td>\n",
              "      <td>Ariana Grande</td>\n",
              "      <td>2021</td>\n",
              "    </tr>\n",
              "    <tr>\n",
              "      <th>2</th>\n",
              "      <td>Calling My Phone</td>\n",
              "      <td>Lil Tjay Featuring 6LACK</td>\n",
              "      <td>2021</td>\n",
              "    </tr>\n",
              "    <tr>\n",
              "      <th>3</th>\n",
              "      <td>Blinding Lights</td>\n",
              "      <td>The Weeknd</td>\n",
              "      <td>2021</td>\n",
              "    </tr>\n",
              "    <tr>\n",
              "      <th>4</th>\n",
              "      <td>Up</td>\n",
              "      <td>Cardi B</td>\n",
              "      <td>2021</td>\n",
              "    </tr>\n",
              "    <tr>\n",
              "      <th>...</th>\n",
              "      <td>...</td>\n",
              "      <td>...</td>\n",
              "      <td>...</td>\n",
              "    </tr>\n",
              "    <tr>\n",
              "      <th>195</th>\n",
              "      <td>Germaphobe</td>\n",
              "      <td>Hockey Dad</td>\n",
              "      <td>2020</td>\n",
              "    </tr>\n",
              "    <tr>\n",
              "      <th>196</th>\n",
              "      <td>Audacity</td>\n",
              "      <td>Stormzy featuring Headie One</td>\n",
              "      <td>2020</td>\n",
              "    </tr>\n",
              "    <tr>\n",
              "      <th>197</th>\n",
              "      <td>Your Man</td>\n",
              "      <td>Joji</td>\n",
              "      <td>2020</td>\n",
              "    </tr>\n",
              "    <tr>\n",
              "      <th>198</th>\n",
              "      <td>Itch</td>\n",
              "      <td>Hockey Dad</td>\n",
              "      <td>2020</td>\n",
              "    </tr>\n",
              "    <tr>\n",
              "      <th>199</th>\n",
              "      <td>Kool</td>\n",
              "      <td>Benee</td>\n",
              "      <td>2020</td>\n",
              "    </tr>\n",
              "  </tbody>\n",
              "</table>\n",
              "<p>200 rows × 3 columns</p>\n",
              "</div>"
            ],
            "text/plain": [
              "                 song                        artist  year\n",
              "0     Drivers License                Olivia Rodrigo  2021\n",
              "1               34+35                 Ariana Grande  2021\n",
              "2    Calling My Phone      Lil Tjay Featuring 6LACK  2021\n",
              "3     Blinding Lights                    The Weeknd  2021\n",
              "4                  Up                       Cardi B  2021\n",
              "..                ...                           ...   ...\n",
              "195        Germaphobe                    Hockey Dad  2020\n",
              "196          Audacity  Stormzy featuring Headie One  2020\n",
              "197          Your Man                          Joji  2020\n",
              "198              Itch                    Hockey Dad  2020\n",
              "199              Kool                         Benee  2020\n",
              "\n",
              "[200 rows x 3 columns]"
            ]
          },
          "metadata": {
            "tags": []
          },
          "execution_count": 37
        }
      ]
    },
    {
      "cell_type": "markdown",
      "metadata": {
        "id": "zs5WwgQJ9Y83"
      },
      "source": [
        "## Get data from Spotify"
      ]
    },
    {
      "cell_type": "markdown",
      "metadata": {
        "id": "pZF5Mttz-SOV"
      },
      "source": [
        "###Loading credentials from another config file"
      ]
    },
    {
      "cell_type": "code",
      "metadata": {
        "id": "7DpC9bZ9-blH"
      },
      "source": [
        "import sys\r\n",
        "sys.path.insert(1, '/content/drive/MyDrive')\r\n",
        "from config_spotify import *"
      ],
      "execution_count": null,
      "outputs": []
    },
    {
      "cell_type": "markdown",
      "metadata": {
        "id": "Jt0CvyhF-oTB"
      },
      "source": [
        "###Staring with SportifyAPI"
      ]
    },
    {
      "cell_type": "code",
      "metadata": {
        "id": "Qfo9USUK--Qy",
        "colab": {
          "base_uri": "https://localhost:8080/"
        },
        "outputId": "029ed5e5-11b7-47cf-b5ad-a05ac963ddb8"
      },
      "source": [
        "!pip install spotipy\r\n",
        "import spotipy\r\n",
        "import json\r\n",
        "from spotipy.oauth2 import SpotifyClientCredentials\r\n",
        "\r\n",
        "\r\n",
        "#Initialize SpotiPy with user credentias\r\n",
        "sp = spotipy.Spotify(auth_manager=SpotifyClientCredentials(client_id= ClientID,\r\n",
        "                                                           client_secret= ClientSecret))\r\n",
        "\r\n",
        "# The \"sp\" variable has two useful funtions:\r\n",
        "# The first usefull function is:\r\n",
        "# .search(q='',limit=n)\r\n",
        "# Where the \"q\" keyword is the query you want to perform on spotify: song_name, artist,...\r\n",
        "# while The \"limit\" keyword will limit the number of returned results.\r\n",
        "#\r\n",
        "# The second usefull function is:\r\n",
        "# .audio_features([URL|URI|ID])\r\n",
        "# which returns some 'features of the song', that after cleanup, we can use in order to characterize a song.\r\n"
      ],
      "execution_count": null,
      "outputs": [
        {
          "output_type": "stream",
          "text": [
            "Requirement already satisfied: spotipy in /usr/local/lib/python3.7/dist-packages (2.16.1)\n",
            "Requirement already satisfied: six>=1.10.0 in /usr/local/lib/python3.7/dist-packages (from spotipy) (1.15.0)\n",
            "Requirement already satisfied: requests>=2.20.0 in /usr/local/lib/python3.7/dist-packages (from spotipy) (2.23.0)\n",
            "Requirement already satisfied: urllib3!=1.25.0,!=1.25.1,<1.26,>=1.21.1 in /usr/local/lib/python3.7/dist-packages (from requests>=2.20.0->spotipy) (1.24.3)\n",
            "Requirement already satisfied: idna<3,>=2.5 in /usr/local/lib/python3.7/dist-packages (from requests>=2.20.0->spotipy) (2.10)\n",
            "Requirement already satisfied: certifi>=2017.4.17 in /usr/local/lib/python3.7/dist-packages (from requests>=2.20.0->spotipy) (2020.12.5)\n",
            "Requirement already satisfied: chardet<4,>=3.0.2 in /usr/local/lib/python3.7/dist-packages (from requests>=2.20.0->spotipy) (3.0.4)\n"
          ],
          "name": "stdout"
        }
      ]
    },
    {
      "cell_type": "code",
      "metadata": {
        "id": "xZflHm12Grpk",
        "colab": {
          "base_uri": "https://localhost:8080/"
        },
        "outputId": "0fa9461c-0b25-42d7-a7c7-0af9082b7f75"
      },
      "source": [
        "# change format of df_final['song'] to fit the format of spotifyAPI\r\n",
        "title_lower = map(lambda x:x.lower(),hot_song['song'])\r\n",
        "songlist = list(title_lower)\r\n",
        "songlist"
      ],
      "execution_count": null,
      "outputs": [
        {
          "output_type": "execute_result",
          "data": {
            "text/plain": [
              "['drivers license',\n",
              " '34+35',\n",
              " 'calling my phone',\n",
              " 'blinding lights',\n",
              " 'up',\n",
              " 'save your tears',\n",
              " 'mood',\n",
              " 'go crazy',\n",
              " 'levitating',\n",
              " 'positions',\n",
              " \"love story (taylor's version)\",\n",
              " 'what you know bout love',\n",
              " 'therefore i am',\n",
              " 'for the night',\n",
              " 'whoopty',\n",
              " 'back in blood',\n",
              " 'holy',\n",
              " 'good days',\n",
              " 'i hope',\n",
              " 'better together',\n",
              " 'dakiti',\n",
              " 'lonely',\n",
              " 'you broke me first.',\n",
              " \"you're mines still\",\n",
              " 'willow',\n",
              " 'body',\n",
              " 'streets',\n",
              " 'anyone',\n",
              " \"my ex's best friend\",\n",
              " 'throat baby (go baby)',\n",
              " 'bang!',\n",
              " 'on me',\n",
              " 'before you go',\n",
              " 'lemonade',\n",
              " 'good time',\n",
              " 'laugh now cry later',\n",
              " 'starting over',\n",
              " 'best friend',\n",
              " 'put your records on',\n",
              " 'just the way',\n",
              " 'cry baby',\n",
              " 'beers and sunshine',\n",
              " 'without you',\n",
              " 'damage',\n",
              " 'dynamite',\n",
              " 'down to one',\n",
              " 'buss it',\n",
              " 'long live',\n",
              " \"we're good\",\n",
              " 'time today',\n",
              " 'what it feels like',\n",
              " 'hole in the bottle',\n",
              " 'wasted on you',\n",
              " 'beat box',\n",
              " 'the good ones',\n",
              " \"what's your country song\",\n",
              " 'sand in my boots',\n",
              " 'golden',\n",
              " 'monsters',\n",
              " 'goosebumps',\n",
              " 'my head and my heart',\n",
              " 'tyler herro',\n",
              " 'lady',\n",
              " 'heat waves',\n",
              " 'afterglow',\n",
              " 'forever after all',\n",
              " 'girl like me',\n",
              " 'astronaut in the ocean',\n",
              " 'la noche de anoche',\n",
              " 'no more parties',\n",
              " \"somebody's problem\",\n",
              " \"momma's house\",\n",
              " 'hell of a view',\n",
              " 'heartbreak anniversary',\n",
              " 'neighbors',\n",
              " 'lifestyle',\n",
              " 'so done',\n",
              " 'somebody like that',\n",
              " 'finesse out the gang way',\n",
              " 'masterpiece',\n",
              " 'moonwalking in calabasas',\n",
              " 'bandido',\n",
              " 'happy does',\n",
              " 'cover me up',\n",
              " 'you got it',\n",
              " 'one too many',\n",
              " \"still trappin'\",\n",
              " 'pick up your feelings',\n",
              " 'big, big plans',\n",
              " 'drankin n smokin',\n",
              " 'monster',\n",
              " 'bichota',\n",
              " 'glad you exist',\n",
              " 'quicksand',\n",
              " 'like i want you',\n",
              " 'almost maybes',\n",
              " 'back to the streets',\n",
              " 'bad boy',\n",
              " 'opp stoppa',\n",
              " 'how they remember you',\n",
              " 'heat waves',\n",
              " 'booster seat',\n",
              " 'the difference',\n",
              " 'cherub',\n",
              " 'lost in yesterday',\n",
              " 'wap',\n",
              " 'hyperfine',\n",
              " 'sending me ur loving',\n",
              " \"i'm good?\",\n",
              " 'therefore i am',\n",
              " 'on our own',\n",
              " 'get on the beers',\n",
              " 'rockstar',\n",
              " 'tombstone',\n",
              " 'skin',\n",
              " 'screw loose',\n",
              " 'is it true',\n",
              " 'tangerine',\n",
              " 'you should be sad',\n",
              " 'addicted to the sunshine',\n",
              " 'energy',\n",
              " 'complicated',\n",
              " 'good news',\n",
              " 'blue world',\n",
              " 'reality check please',\n",
              " 'no plans to make plans',\n",
              " 'under the thunder',\n",
              " 'straightfaced',\n",
              " 'dribble',\n",
              " 'bagi-la-m bargan',\n",
              " 'reasons',\n",
              " 'criminals',\n",
              " 'breathe deeper',\n",
              " 'everybody rise',\n",
              " 'running red lights',\n",
              " 'forget me too',\n",
              " 'so done',\n",
              " 'parasite eve',\n",
              " 'righteous',\n",
              " 'come & go',\n",
              " 'i still dream about you',\n",
              " 'whats poppin',\n",
              " 'together',\n",
              " 'you & i',\n",
              " 'as long as you care',\n",
              " 'pretty lady',\n",
              " 'animals',\n",
              " \"ain't it different\",\n",
              " 'wishing well',\n",
              " 'nothing to love about love',\n",
              " 'your love (déjà vu)',\n",
              " 'the glow',\n",
              " 'in your eyes',\n",
              " 'blue (flume remix)',\n",
              " \"i think you're great\",\n",
              " 'on the line',\n",
              " 'sobercoaster',\n",
              " 'fly away',\n",
              " 'gimme love',\n",
              " 'go',\n",
              " 'pretty grim',\n",
              " 'run',\n",
              " 'day & age',\n",
              " 'soak me in bleach',\n",
              " \"c'mon\",\n",
              " 'fantasising',\n",
              " 'boss bitch',\n",
              " 'lie to me',\n",
              " 'second',\n",
              " 'low',\n",
              " 'obey',\n",
              " 'way down',\n",
              " \"don't need you\",\n",
              " 'scream drive faster',\n",
              " 'photo id',\n",
              " \"baby it's you\",\n",
              " 'house arrest',\n",
              " 'lady marmalade (like a version)',\n",
              " 'my future',\n",
              " 'freaks',\n",
              " 'weightless',\n",
              " 'the clap',\n",
              " 'down for you',\n",
              " 'chicken tenders',\n",
              " 'too tough terry',\n",
              " 'laugh now cry later',\n",
              " 'three leaf clover',\n",
              " 'heart attack',\n",
              " 'in her eyes',\n",
              " 'no time to die',\n",
              " 'charlie (like a version)',\n",
              " 'these days',\n",
              " 'lemonade',\n",
              " 'rain',\n",
              " 'loose ends',\n",
              " 'germaphobe',\n",
              " 'audacity',\n",
              " 'your man',\n",
              " 'itch',\n",
              " 'kool']"
            ]
          },
          "metadata": {
            "tags": []
          },
          "execution_count": 41
        }
      ]
    },
    {
      "cell_type": "markdown",
      "metadata": {
        "id": "5U-lge_GZ1__"
      },
      "source": [
        "search for a song from Spotify to understand what features information included"
      ]
    },
    {
      "cell_type": "code",
      "metadata": {
        "id": "ghd6SiDqW7g6",
        "colab": {
          "base_uri": "https://localhost:8080/",
          "height": 97
        },
        "outputId": "0ba2d95d-c198-40fc-b929-aa5dfb95780d"
      },
      "source": [
        "skin = sp.search(q='skin', limit=1) \r\n",
        "#len(skin[\"tracks\"][\"items\"])\r\n",
        "#skin[\"tracks\"][\"items\"][0].keys()\r\n",
        "skin[\"tracks\"][\"items\"][0][\"uri\"]\r\n",
        "#my_dict = sp.audio_features(skin[\"tracks\"][\"items\"][0][\"uri\"]) # my_dict is a list with a dictionary\r\n",
        "my_dict = sp.audio_features(skin[\"tracks\"][\"items\"][0][\"uri\"])[0] # my_dict is now a dictionary\r\n",
        "\r\n",
        "#my_dict\r\n",
        "# Change it to a pandas dataframe\r\n",
        "my_dict_new = { key:[my_dict[key]] for key in list(my_dict.keys()) }\r\n",
        "spotify_features = pd.DataFrame(my_dict_new)\r\n",
        "spotify_features.select_dtypes(np.number)\r\n"
      ],
      "execution_count": null,
      "outputs": [
        {
          "output_type": "execute_result",
          "data": {
            "text/html": [
              "<div>\n",
              "<style scoped>\n",
              "    .dataframe tbody tr th:only-of-type {\n",
              "        vertical-align: middle;\n",
              "    }\n",
              "\n",
              "    .dataframe tbody tr th {\n",
              "        vertical-align: top;\n",
              "    }\n",
              "\n",
              "    .dataframe thead th {\n",
              "        text-align: right;\n",
              "    }\n",
              "</style>\n",
              "<table border=\"1\" class=\"dataframe\">\n",
              "  <thead>\n",
              "    <tr style=\"text-align: right;\">\n",
              "      <th></th>\n",
              "      <th>danceability</th>\n",
              "      <th>energy</th>\n",
              "      <th>key</th>\n",
              "      <th>loudness</th>\n",
              "      <th>mode</th>\n",
              "      <th>speechiness</th>\n",
              "      <th>acousticness</th>\n",
              "      <th>instrumentalness</th>\n",
              "      <th>liveness</th>\n",
              "      <th>valence</th>\n",
              "      <th>tempo</th>\n",
              "      <th>duration_ms</th>\n",
              "      <th>time_signature</th>\n",
              "    </tr>\n",
              "  </thead>\n",
              "  <tbody>\n",
              "    <tr>\n",
              "      <th>0</th>\n",
              "      <td>0.557</td>\n",
              "      <td>0.457</td>\n",
              "      <td>7</td>\n",
              "      <td>-5.372</td>\n",
              "      <td>1</td>\n",
              "      <td>0.0335</td>\n",
              "      <td>0.428</td>\n",
              "      <td>0</td>\n",
              "      <td>0.0567</td>\n",
              "      <td>0.328</td>\n",
              "      <td>105.918</td>\n",
              "      <td>177500</td>\n",
              "      <td>4</td>\n",
              "    </tr>\n",
              "  </tbody>\n",
              "</table>\n",
              "</div>"
            ],
            "text/plain": [
              "   danceability  energy  key  ...    tempo  duration_ms  time_signature\n",
              "0         0.557   0.457    7  ...  105.918       177500               4\n",
              "\n",
              "[1 rows x 13 columns]"
            ]
          },
          "metadata": {
            "tags": []
          },
          "execution_count": 42
        }
      ]
    },
    {
      "cell_type": "markdown",
      "metadata": {
        "id": "JA4L-kBl6Pda"
      },
      "source": [
        "##Create K-means model"
      ]
    },
    {
      "cell_type": "markdown",
      "metadata": {
        "id": "PJSmC9SlNzeC"
      },
      "source": [
        "### Get DataSet from Kaggle.com"
      ]
    },
    {
      "cell_type": "code",
      "metadata": {
        "id": "nHwqZh0B6wMX"
      },
      "source": [
        "data = pd.read_csv('/content/drive/MyDrive/Spotify_project/data.csv')\r\n"
      ],
      "execution_count": null,
      "outputs": []
    },
    {
      "cell_type": "code",
      "metadata": {
        "colab": {
          "base_uri": "https://localhost:8080/",
          "height": 400
        },
        "id": "ZFQuTcFURuYP",
        "outputId": "3d613709-7b1b-465d-dfce-4a6afe6e1f8e"
      },
      "source": [
        "data.head()\r\n"
      ],
      "execution_count": null,
      "outputs": [
        {
          "output_type": "execute_result",
          "data": {
            "text/html": [
              "<div>\n",
              "<style scoped>\n",
              "    .dataframe tbody tr th:only-of-type {\n",
              "        vertical-align: middle;\n",
              "    }\n",
              "\n",
              "    .dataframe tbody tr th {\n",
              "        vertical-align: top;\n",
              "    }\n",
              "\n",
              "    .dataframe thead th {\n",
              "        text-align: right;\n",
              "    }\n",
              "</style>\n",
              "<table border=\"1\" class=\"dataframe\">\n",
              "  <thead>\n",
              "    <tr style=\"text-align: right;\">\n",
              "      <th></th>\n",
              "      <th>acousticness</th>\n",
              "      <th>artists</th>\n",
              "      <th>danceability</th>\n",
              "      <th>duration_ms</th>\n",
              "      <th>energy</th>\n",
              "      <th>explicit</th>\n",
              "      <th>id</th>\n",
              "      <th>instrumentalness</th>\n",
              "      <th>key</th>\n",
              "      <th>liveness</th>\n",
              "      <th>loudness</th>\n",
              "      <th>mode</th>\n",
              "      <th>name</th>\n",
              "      <th>popularity</th>\n",
              "      <th>release_date</th>\n",
              "      <th>speechiness</th>\n",
              "      <th>tempo</th>\n",
              "      <th>valence</th>\n",
              "      <th>year</th>\n",
              "    </tr>\n",
              "  </thead>\n",
              "  <tbody>\n",
              "    <tr>\n",
              "      <th>0</th>\n",
              "      <td>0.991000</td>\n",
              "      <td>['Mamie Smith']</td>\n",
              "      <td>0.598</td>\n",
              "      <td>168333</td>\n",
              "      <td>0.224</td>\n",
              "      <td>0</td>\n",
              "      <td>0cS0A1fUEUd1EW3FcF8AEI</td>\n",
              "      <td>0.000522</td>\n",
              "      <td>5</td>\n",
              "      <td>0.3790</td>\n",
              "      <td>-12.628</td>\n",
              "      <td>0</td>\n",
              "      <td>Keep A Song In Your Soul</td>\n",
              "      <td>12</td>\n",
              "      <td>1920</td>\n",
              "      <td>0.0936</td>\n",
              "      <td>149.976</td>\n",
              "      <td>0.6340</td>\n",
              "      <td>1920</td>\n",
              "    </tr>\n",
              "    <tr>\n",
              "      <th>1</th>\n",
              "      <td>0.643000</td>\n",
              "      <td>[\"Screamin' Jay Hawkins\"]</td>\n",
              "      <td>0.852</td>\n",
              "      <td>150200</td>\n",
              "      <td>0.517</td>\n",
              "      <td>0</td>\n",
              "      <td>0hbkKFIJm7Z05H8Zl9w30f</td>\n",
              "      <td>0.026400</td>\n",
              "      <td>5</td>\n",
              "      <td>0.0809</td>\n",
              "      <td>-7.261</td>\n",
              "      <td>0</td>\n",
              "      <td>I Put A Spell On You</td>\n",
              "      <td>7</td>\n",
              "      <td>1920-01-05</td>\n",
              "      <td>0.0534</td>\n",
              "      <td>86.889</td>\n",
              "      <td>0.9500</td>\n",
              "      <td>1920</td>\n",
              "    </tr>\n",
              "    <tr>\n",
              "      <th>2</th>\n",
              "      <td>0.993000</td>\n",
              "      <td>['Mamie Smith']</td>\n",
              "      <td>0.647</td>\n",
              "      <td>163827</td>\n",
              "      <td>0.186</td>\n",
              "      <td>0</td>\n",
              "      <td>11m7laMUgmOKqI3oYzuhne</td>\n",
              "      <td>0.000018</td>\n",
              "      <td>0</td>\n",
              "      <td>0.5190</td>\n",
              "      <td>-12.098</td>\n",
              "      <td>1</td>\n",
              "      <td>Golfing Papa</td>\n",
              "      <td>4</td>\n",
              "      <td>1920</td>\n",
              "      <td>0.1740</td>\n",
              "      <td>97.600</td>\n",
              "      <td>0.6890</td>\n",
              "      <td>1920</td>\n",
              "    </tr>\n",
              "    <tr>\n",
              "      <th>3</th>\n",
              "      <td>0.000173</td>\n",
              "      <td>['Oscar Velazquez']</td>\n",
              "      <td>0.730</td>\n",
              "      <td>422087</td>\n",
              "      <td>0.798</td>\n",
              "      <td>0</td>\n",
              "      <td>19Lc5SfJJ5O1oaxY0fpwfh</td>\n",
              "      <td>0.801000</td>\n",
              "      <td>2</td>\n",
              "      <td>0.1280</td>\n",
              "      <td>-7.311</td>\n",
              "      <td>1</td>\n",
              "      <td>True House Music - Xavier Santos &amp; Carlos Gomi...</td>\n",
              "      <td>17</td>\n",
              "      <td>1920-01-01</td>\n",
              "      <td>0.0425</td>\n",
              "      <td>127.997</td>\n",
              "      <td>0.0422</td>\n",
              "      <td>1920</td>\n",
              "    </tr>\n",
              "    <tr>\n",
              "      <th>4</th>\n",
              "      <td>0.295000</td>\n",
              "      <td>['Mixe']</td>\n",
              "      <td>0.704</td>\n",
              "      <td>165224</td>\n",
              "      <td>0.707</td>\n",
              "      <td>1</td>\n",
              "      <td>2hJjbsLCytGsnAHfdsLejp</td>\n",
              "      <td>0.000246</td>\n",
              "      <td>10</td>\n",
              "      <td>0.4020</td>\n",
              "      <td>-6.036</td>\n",
              "      <td>0</td>\n",
              "      <td>Xuniverxe</td>\n",
              "      <td>2</td>\n",
              "      <td>1920-10-01</td>\n",
              "      <td>0.0768</td>\n",
              "      <td>122.076</td>\n",
              "      <td>0.2990</td>\n",
              "      <td>1920</td>\n",
              "    </tr>\n",
              "  </tbody>\n",
              "</table>\n",
              "</div>"
            ],
            "text/plain": [
              "   acousticness                    artists  ...  valence  year\n",
              "0      0.991000            ['Mamie Smith']  ...   0.6340  1920\n",
              "1      0.643000  [\"Screamin' Jay Hawkins\"]  ...   0.9500  1920\n",
              "2      0.993000            ['Mamie Smith']  ...   0.6890  1920\n",
              "3      0.000173        ['Oscar Velazquez']  ...   0.0422  1920\n",
              "4      0.295000                   ['Mixe']  ...   0.2990  1920\n",
              "\n",
              "[5 rows x 19 columns]"
            ]
          },
          "metadata": {
            "tags": []
          },
          "execution_count": 91
        }
      ]
    },
    {
      "cell_type": "code",
      "metadata": {
        "colab": {
          "base_uri": "https://localhost:8080/"
        },
        "id": "dn9JNFMuRymw",
        "outputId": "8d57541e-e83a-40de-b432-aeb97a079608"
      },
      "source": [
        "data.shape"
      ],
      "execution_count": null,
      "outputs": [
        {
          "output_type": "execute_result",
          "data": {
            "text/plain": [
              "(174389, 19)"
            ]
          },
          "metadata": {
            "tags": []
          },
          "execution_count": 92
        }
      ]
    },
    {
      "cell_type": "code",
      "metadata": {
        "id": "8e51-CQcGgFu",
        "colab": {
          "base_uri": "https://localhost:8080/"
        },
        "outputId": "04e0c947-9319-4d26-a6f6-1252db0aece7"
      },
      "source": [
        "#drop na\r\n",
        "data=data.dropna()\r\n",
        "data.shape"
      ],
      "execution_count": null,
      "outputs": [
        {
          "output_type": "execute_result",
          "data": {
            "text/plain": [
              "(174389, 19)"
            ]
          },
          "metadata": {
            "tags": []
          },
          "execution_count": 93
        }
      ]
    },
    {
      "cell_type": "code",
      "metadata": {
        "id": "FERzSUP1B0Fm"
      },
      "source": [
        "#keep only features that match the Spotify features and rearrange the order:\r\n",
        "df = data[['danceability','energy','key','loudness','mode','speechiness','acousticness','instrumentalness','liveness','valence','tempo','duration_ms']]"
      ],
      "execution_count": null,
      "outputs": []
    },
    {
      "cell_type": "markdown",
      "metadata": {
        "id": "-D1s68050r34"
      },
      "source": [
        "My decision is to keep these features:'acousticness','danceability','duration_ms','energy','instrumentalness','liveness','popularity','tempo','year' to do clustering"
      ]
    },
    {
      "cell_type": "markdown",
      "metadata": {
        "id": "4MJzWDlN02kd"
      },
      "source": [
        "### Function to preprocess the features"
      ]
    },
    {
      "cell_type": "markdown",
      "metadata": {
        "id": "a16Hnx4NGKhx"
      },
      "source": [
        ""
      ]
    },
    {
      "cell_type": "code",
      "metadata": {
        "id": "w6ktGjcP7P33"
      },
      "source": [
        "from bs4 import BeautifulSoup\r\n",
        "import requests\r\n",
        "from datetime import date\r\n",
        "import datetime\r\n",
        "from sklearn.preprocessing import StandardScaler\r\n",
        "from sklearn.cluster import KMeans\r\n",
        "from sklearn.metrics import silhouette_score\r\n"
      ],
      "execution_count": null,
      "outputs": []
    },
    {
      "cell_type": "code",
      "metadata": {
        "colab": {
          "base_uri": "https://localhost:8080/",
          "height": 402
        },
        "id": "bV-DqpT_2LNK",
        "outputId": "cb9cd2e7-4564-403f-dd75-4ba272230e69"
      },
      "source": [
        "df_numeric = df.select_dtypes(np.number)\r\n",
        "df_numeric\r\n",
        "#danceability\tenergy\tkey\tloudness\tmode\tspeechiness\tacousticness\tinstrumentalness\tliveness\tvalence\ttempo\tduration_ms\ttime_signature"
      ],
      "execution_count": null,
      "outputs": [
        {
          "output_type": "execute_result",
          "data": {
            "text/html": [
              "<div>\n",
              "<style scoped>\n",
              "    .dataframe tbody tr th:only-of-type {\n",
              "        vertical-align: middle;\n",
              "    }\n",
              "\n",
              "    .dataframe tbody tr th {\n",
              "        vertical-align: top;\n",
              "    }\n",
              "\n",
              "    .dataframe thead th {\n",
              "        text-align: right;\n",
              "    }\n",
              "</style>\n",
              "<table border=\"1\" class=\"dataframe\">\n",
              "  <thead>\n",
              "    <tr style=\"text-align: right;\">\n",
              "      <th></th>\n",
              "      <th>danceability</th>\n",
              "      <th>energy</th>\n",
              "      <th>key</th>\n",
              "      <th>loudness</th>\n",
              "      <th>mode</th>\n",
              "      <th>speechiness</th>\n",
              "      <th>acousticness</th>\n",
              "      <th>instrumentalness</th>\n",
              "      <th>liveness</th>\n",
              "      <th>valence</th>\n",
              "      <th>tempo</th>\n",
              "      <th>duration_ms</th>\n",
              "    </tr>\n",
              "  </thead>\n",
              "  <tbody>\n",
              "    <tr>\n",
              "      <th>0</th>\n",
              "      <td>0.598</td>\n",
              "      <td>0.224</td>\n",
              "      <td>5</td>\n",
              "      <td>-12.628</td>\n",
              "      <td>0</td>\n",
              "      <td>0.0936</td>\n",
              "      <td>0.991000</td>\n",
              "      <td>0.000522</td>\n",
              "      <td>0.3790</td>\n",
              "      <td>0.6340</td>\n",
              "      <td>149.976</td>\n",
              "      <td>168333</td>\n",
              "    </tr>\n",
              "    <tr>\n",
              "      <th>1</th>\n",
              "      <td>0.852</td>\n",
              "      <td>0.517</td>\n",
              "      <td>5</td>\n",
              "      <td>-7.261</td>\n",
              "      <td>0</td>\n",
              "      <td>0.0534</td>\n",
              "      <td>0.643000</td>\n",
              "      <td>0.026400</td>\n",
              "      <td>0.0809</td>\n",
              "      <td>0.9500</td>\n",
              "      <td>86.889</td>\n",
              "      <td>150200</td>\n",
              "    </tr>\n",
              "    <tr>\n",
              "      <th>2</th>\n",
              "      <td>0.647</td>\n",
              "      <td>0.186</td>\n",
              "      <td>0</td>\n",
              "      <td>-12.098</td>\n",
              "      <td>1</td>\n",
              "      <td>0.1740</td>\n",
              "      <td>0.993000</td>\n",
              "      <td>0.000018</td>\n",
              "      <td>0.5190</td>\n",
              "      <td>0.6890</td>\n",
              "      <td>97.600</td>\n",
              "      <td>163827</td>\n",
              "    </tr>\n",
              "    <tr>\n",
              "      <th>3</th>\n",
              "      <td>0.730</td>\n",
              "      <td>0.798</td>\n",
              "      <td>2</td>\n",
              "      <td>-7.311</td>\n",
              "      <td>1</td>\n",
              "      <td>0.0425</td>\n",
              "      <td>0.000173</td>\n",
              "      <td>0.801000</td>\n",
              "      <td>0.1280</td>\n",
              "      <td>0.0422</td>\n",
              "      <td>127.997</td>\n",
              "      <td>422087</td>\n",
              "    </tr>\n",
              "    <tr>\n",
              "      <th>4</th>\n",
              "      <td>0.704</td>\n",
              "      <td>0.707</td>\n",
              "      <td>10</td>\n",
              "      <td>-6.036</td>\n",
              "      <td>0</td>\n",
              "      <td>0.0768</td>\n",
              "      <td>0.295000</td>\n",
              "      <td>0.000246</td>\n",
              "      <td>0.4020</td>\n",
              "      <td>0.2990</td>\n",
              "      <td>122.076</td>\n",
              "      <td>165224</td>\n",
              "    </tr>\n",
              "    <tr>\n",
              "      <th>...</th>\n",
              "      <td>...</td>\n",
              "      <td>...</td>\n",
              "      <td>...</td>\n",
              "      <td>...</td>\n",
              "      <td>...</td>\n",
              "      <td>...</td>\n",
              "      <td>...</td>\n",
              "      <td>...</td>\n",
              "      <td>...</td>\n",
              "      <td>...</td>\n",
              "      <td>...</td>\n",
              "      <td>...</td>\n",
              "    </tr>\n",
              "    <tr>\n",
              "      <th>174384</th>\n",
              "      <td>0.792</td>\n",
              "      <td>0.866</td>\n",
              "      <td>6</td>\n",
              "      <td>-5.089</td>\n",
              "      <td>0</td>\n",
              "      <td>0.0356</td>\n",
              "      <td>0.009170</td>\n",
              "      <td>0.000060</td>\n",
              "      <td>0.1780</td>\n",
              "      <td>0.1860</td>\n",
              "      <td>125.972</td>\n",
              "      <td>147615</td>\n",
              "    </tr>\n",
              "    <tr>\n",
              "      <th>174385</th>\n",
              "      <td>0.429</td>\n",
              "      <td>0.211</td>\n",
              "      <td>4</td>\n",
              "      <td>-11.665</td>\n",
              "      <td>1</td>\n",
              "      <td>0.0360</td>\n",
              "      <td>0.795000</td>\n",
              "      <td>0.000000</td>\n",
              "      <td>0.1960</td>\n",
              "      <td>0.2280</td>\n",
              "      <td>94.710</td>\n",
              "      <td>144720</td>\n",
              "    </tr>\n",
              "    <tr>\n",
              "      <th>174386</th>\n",
              "      <td>0.671</td>\n",
              "      <td>0.589</td>\n",
              "      <td>4</td>\n",
              "      <td>-12.393</td>\n",
              "      <td>0</td>\n",
              "      <td>0.0282</td>\n",
              "      <td>0.806000</td>\n",
              "      <td>0.920000</td>\n",
              "      <td>0.1130</td>\n",
              "      <td>0.7140</td>\n",
              "      <td>108.058</td>\n",
              "      <td>218147</td>\n",
              "    </tr>\n",
              "    <tr>\n",
              "      <th>174387</th>\n",
              "      <td>0.462</td>\n",
              "      <td>0.240</td>\n",
              "      <td>0</td>\n",
              "      <td>-12.077</td>\n",
              "      <td>1</td>\n",
              "      <td>0.0377</td>\n",
              "      <td>0.920000</td>\n",
              "      <td>0.000000</td>\n",
              "      <td>0.1130</td>\n",
              "      <td>0.3200</td>\n",
              "      <td>171.319</td>\n",
              "      <td>244000</td>\n",
              "    </tr>\n",
              "    <tr>\n",
              "      <th>174388</th>\n",
              "      <td>0.677</td>\n",
              "      <td>0.460</td>\n",
              "      <td>7</td>\n",
              "      <td>-12.237</td>\n",
              "      <td>1</td>\n",
              "      <td>0.0258</td>\n",
              "      <td>0.239000</td>\n",
              "      <td>0.891000</td>\n",
              "      <td>0.2150</td>\n",
              "      <td>0.7470</td>\n",
              "      <td>112.208</td>\n",
              "      <td>197710</td>\n",
              "    </tr>\n",
              "  </tbody>\n",
              "</table>\n",
              "<p>174389 rows × 12 columns</p>\n",
              "</div>"
            ],
            "text/plain": [
              "        danceability  energy  key  ...  valence    tempo  duration_ms\n",
              "0              0.598   0.224    5  ...   0.6340  149.976       168333\n",
              "1              0.852   0.517    5  ...   0.9500   86.889       150200\n",
              "2              0.647   0.186    0  ...   0.6890   97.600       163827\n",
              "3              0.730   0.798    2  ...   0.0422  127.997       422087\n",
              "4              0.704   0.707   10  ...   0.2990  122.076       165224\n",
              "...              ...     ...  ...  ...      ...      ...          ...\n",
              "174384         0.792   0.866    6  ...   0.1860  125.972       147615\n",
              "174385         0.429   0.211    4  ...   0.2280   94.710       144720\n",
              "174386         0.671   0.589    4  ...   0.7140  108.058       218147\n",
              "174387         0.462   0.240    0  ...   0.3200  171.319       244000\n",
              "174388         0.677   0.460    7  ...   0.7470  112.208       197710\n",
              "\n",
              "[174389 rows x 12 columns]"
            ]
          },
          "metadata": {
            "tags": []
          },
          "execution_count": 95
        }
      ]
    },
    {
      "cell_type": "code",
      "metadata": {
        "id": "a5cBVe28avNx"
      },
      "source": [
        "#define a function for scaling\r\n",
        "def scaling(df):\r\n",
        "   scaler = StandardScaler().fit(df)\r\n",
        "   X_prep = scaler.transform(df)\r\n",
        "   return scaler, X_prep"
      ],
      "execution_count": null,
      "outputs": []
    },
    {
      "cell_type": "code",
      "metadata": {
        "id": "zGTyVwWIv0ct"
      },
      "source": [
        "# call the function\r\n",
        "scaler, X_prep=scaling(df_numeric)"
      ],
      "execution_count": null,
      "outputs": []
    },
    {
      "cell_type": "code",
      "metadata": {
        "colab": {
          "base_uri": "https://localhost:8080/"
        },
        "id": "t0Kqee7_U_DC",
        "outputId": "6349b5c8-ef13-4060-c372-3f07e4530ea8"
      },
      "source": [
        "X_prep"
      ],
      "execution_count": null,
      "outputs": [
        {
          "output_type": "execute_result",
          "data": {
            "text/plain": [
              "array([[ 0.34791933, -0.94879121, -0.05835388, ...,  0.41390256,\n",
              "         1.08975345, -0.4344949 ],\n",
              "       [ 1.79089823,  0.12570987, -0.05835388, ...,  1.60871779,\n",
              "        -0.99548519, -0.55668873],\n",
              "       [ 0.62628927, -1.08814629, -1.47950215, ...,  0.62186091,\n",
              "        -0.64145043, -0.46485973],\n",
              "       ...,\n",
              "       [ 0.76263374,  0.38975108, -0.34258353, ...,  0.71638743,\n",
              "        -0.29577817, -0.09881057],\n",
              "       [-0.4246993 , -0.89011538, -1.47950215, ..., -0.77335055,\n",
              "         1.79521175,  0.07540645],\n",
              "       [ 0.79671985, -0.08332277,  0.51010543, ...,  0.84116244,\n",
              "        -0.15860664, -0.2365305 ]])"
            ]
          },
          "metadata": {
            "tags": []
          },
          "execution_count": 113
        }
      ]
    },
    {
      "cell_type": "markdown",
      "metadata": {
        "id": "Ioh8I2r90pes"
      },
      "source": [
        ""
      ]
    },
    {
      "cell_type": "markdown",
      "metadata": {
        "id": "ZZEAZdG9NgAC"
      },
      "source": [
        "### Checking the inertia"
      ]
    },
    {
      "cell_type": "code",
      "metadata": {
        "id": "V7GLfwHsNEWU",
        "colab": {
          "base_uri": "https://localhost:8080/",
          "height": 530
        },
        "outputId": "fa955a39-61de-4a09-f3b6-eee3b4381c5d"
      },
      "source": [
        "K = range(50, 80)\r\n",
        "inertia = []\r\n",
        "\r\n",
        "for k in K:\r\n",
        "    kmeans = KMeans(n_clusters=k,\r\n",
        "                    random_state=1234)\r\n",
        "    kmeans.fit(X_prep)\r\n",
        "    inertia.append(kmeans.inertia_)\r\n",
        "\r\n",
        "import numpy as np\r\n",
        "import matplotlib.pyplot as plt\r\n",
        "%matplotlib inline\r\n",
        "\r\n",
        "plt.figure(figsize=(16,8))\r\n",
        "plt.plot(K, inertia, 'bx-')\r\n",
        "plt.xlabel('k')\r\n",
        "plt.ylabel('inertia')\r\n",
        "plt.xticks(np.arange(min(K), max(K)+1, 1.0))\r\n",
        "plt.title('Elbow Method showing the optimal k')"
      ],
      "execution_count": null,
      "outputs": [
        {
          "output_type": "execute_result",
          "data": {
            "text/plain": [
              "Text(0.5, 1.0, 'Elbow Method showing the optimal k')"
            ]
          },
          "metadata": {
            "tags": []
          },
          "execution_count": 111
        },
        {
          "output_type": "display_data",
          "data": {
            "image/png": "[encoded data removed]",
            "text/plain": [
              "<Figure size 1152x576 with 1 Axes>"
            ]
          },
          "metadata": {
            "tags": [],
            "needs_background": "light"
          }
        }
      ]
    },
    {
      "cell_type": "markdown",
      "metadata": {
        "id": "iB5Y3wzsn2yv"
      },
      "source": [
        "We can not decided on any elbow point from the graph"
      ]
    },
    {
      "cell_type": "markdown",
      "metadata": {
        "id": "_2MMoP9DNdLw"
      },
      "source": [
        "### Checking the Silhouette score"
      ]
    },
    {
      "cell_type": "code",
      "metadata": {
        "colab": {
          "base_uri": "https://localhost:8080/",
          "height": 530
        },
        "id": "X0sKeZtPLl0Z",
        "outputId": "b68dc92d-70be-4643-c717-752e9defacd6"
      },
      "source": [
        "K = range(50, 80)\r\n",
        "silhouette = []\r\n",
        "\r\n",
        "for k in K:\r\n",
        "    kmeans = KMeans(n_clusters=k,\r\n",
        "                    random_state=1234)\r\n",
        "    kmeans.fit(X_prep)\r\n",
        "    silhouette.append(silhouette_score(X_prep, kmeans.predict(X_prep)))\r\n",
        "\r\n",
        "\r\n",
        "plt.figure(figsize=(16,8))\r\n",
        "plt.plot(K, silhouette, 'bx-')\r\n",
        "plt.xlabel('k')\r\n",
        "plt.ylabel('silhouette score')\r\n",
        "plt.xticks(np.arange(min(K), max(K)+1, 1.0))\r\n",
        "plt.title('Silhouette Method showing the optimal k')"
      ],
      "execution_count": null,
      "outputs": [
        {
          "output_type": "execute_result",
          "data": {
            "text/plain": [
              "Text(0.5, 1.0, 'Silhouette Method showing the optimal k')"
            ]
          },
          "metadata": {
            "tags": []
          },
          "execution_count": 122
        },
        {
          "output_type": "display_data",
          "data": {
            "image/png": "[encoded data removed]",
            "text/plain": [
              "<Figure size 1152x576 with 1 Axes>"
            ]
          },
          "metadata": {
            "tags": [],
            "needs_background": "light"
          }
        }
      ]
    },
    {
      "cell_type": "markdown",
      "metadata": {
        "id": "eoomU9wuPKS_"
      },
      "source": [
        "The high point is where k = 55, therefore I'll choose 55 as my n_clusters\r\n"
      ]
    },
    {
      "cell_type": "code",
      "metadata": {
        "colab": {
          "base_uri": "https://localhost:8080/"
        },
        "id": "nGqweDbXOMHY",
        "outputId": "9ec6d23c-f6ec-453b-bea0-1605755c19c2"
      },
      "source": [
        "km = KMeans(n_clusters=55)\r\n",
        "km"
      ],
      "execution_count": null,
      "outputs": [
        {
          "output_type": "execute_result",
          "data": {
            "text/plain": [
              "KMeans(algorithm='auto', copy_x=True, init='k-means++', max_iter=300,\n",
              "       n_clusters=55, n_init=10, n_jobs=None, precompute_distances='auto',\n",
              "       random_state=None, tol=0.0001, verbose=0)"
            ]
          },
          "metadata": {
            "tags": []
          },
          "execution_count": 79
        }
      ]
    },
    {
      "cell_type": "code",
      "metadata": {
        "colab": {
          "base_uri": "https://localhost:8080/"
        },
        "id": "a_oBVK06PDGE",
        "outputId": "41281f3f-2c96-4ec7-d3db-6bce6a279927"
      },
      "source": [
        "y_predict = km.fit(X_prep)\r\n",
        "y_predict"
      ],
      "execution_count": null,
      "outputs": [
        {
          "output_type": "execute_result",
          "data": {
            "text/plain": [
              "KMeans(algorithm='auto', copy_x=True, init='k-means++', max_iter=300,\n",
              "       n_clusters=55, n_init=10, n_jobs=None, precompute_distances='auto',\n",
              "       random_state=None, tol=0.0001, verbose=0)"
            ]
          },
          "metadata": {
            "tags": []
          },
          "execution_count": 80
        }
      ]
    },
    {
      "cell_type": "code",
      "metadata": {
        "id": "Dd7KF59vQRMV"
      },
      "source": [
        "clusters = km.predict(X_prep)"
      ],
      "execution_count": null,
      "outputs": []
    },
    {
      "cell_type": "code",
      "metadata": {
        "colab": {
          "base_uri": "https://localhost:8080/",
          "height": 400
        },
        "id": "D9SZk_38Qjri",
        "outputId": "69a4be65-94fc-4586-fd54-b13e149a35d6"
      },
      "source": [
        "X_df = data.copy()\r\n",
        "X_df['cluster'] = clusters\r\n",
        "X_df.head()"
      ],
      "execution_count": null,
      "outputs": [
        {
          "output_type": "execute_result",
          "data": {
            "text/html": [
              "<div>\n",
              "<style scoped>\n",
              "    .dataframe tbody tr th:only-of-type {\n",
              "        vertical-align: middle;\n",
              "    }\n",
              "\n",
              "    .dataframe tbody tr th {\n",
              "        vertical-align: top;\n",
              "    }\n",
              "\n",
              "    .dataframe thead th {\n",
              "        text-align: right;\n",
              "    }\n",
              "</style>\n",
              "<table border=\"1\" class=\"dataframe\">\n",
              "  <thead>\n",
              "    <tr style=\"text-align: right;\">\n",
              "      <th></th>\n",
              "      <th>acousticness</th>\n",
              "      <th>artists</th>\n",
              "      <th>danceability</th>\n",
              "      <th>duration_ms</th>\n",
              "      <th>energy</th>\n",
              "      <th>explicit</th>\n",
              "      <th>id</th>\n",
              "      <th>instrumentalness</th>\n",
              "      <th>key</th>\n",
              "      <th>liveness</th>\n",
              "      <th>loudness</th>\n",
              "      <th>mode</th>\n",
              "      <th>name</th>\n",
              "      <th>popularity</th>\n",
              "      <th>release_date</th>\n",
              "      <th>speechiness</th>\n",
              "      <th>tempo</th>\n",
              "      <th>valence</th>\n",
              "      <th>year</th>\n",
              "      <th>cluster</th>\n",
              "    </tr>\n",
              "  </thead>\n",
              "  <tbody>\n",
              "    <tr>\n",
              "      <th>0</th>\n",
              "      <td>0.991000</td>\n",
              "      <td>['Mamie Smith']</td>\n",
              "      <td>0.598</td>\n",
              "      <td>168333</td>\n",
              "      <td>0.224</td>\n",
              "      <td>0</td>\n",
              "      <td>0cS0A1fUEUd1EW3FcF8AEI</td>\n",
              "      <td>0.000522</td>\n",
              "      <td>5</td>\n",
              "      <td>0.3790</td>\n",
              "      <td>-12.628</td>\n",
              "      <td>0</td>\n",
              "      <td>Keep A Song In Your Soul</td>\n",
              "      <td>12</td>\n",
              "      <td>1920</td>\n",
              "      <td>0.0936</td>\n",
              "      <td>149.976</td>\n",
              "      <td>0.6340</td>\n",
              "      <td>1920</td>\n",
              "      <td>19</td>\n",
              "    </tr>\n",
              "    <tr>\n",
              "      <th>1</th>\n",
              "      <td>0.643000</td>\n",
              "      <td>[\"Screamin' Jay Hawkins\"]</td>\n",
              "      <td>0.852</td>\n",
              "      <td>150200</td>\n",
              "      <td>0.517</td>\n",
              "      <td>0</td>\n",
              "      <td>0hbkKFIJm7Z05H8Zl9w30f</td>\n",
              "      <td>0.026400</td>\n",
              "      <td>5</td>\n",
              "      <td>0.0809</td>\n",
              "      <td>-7.261</td>\n",
              "      <td>0</td>\n",
              "      <td>I Put A Spell On You</td>\n",
              "      <td>7</td>\n",
              "      <td>1920-01-05</td>\n",
              "      <td>0.0534</td>\n",
              "      <td>86.889</td>\n",
              "      <td>0.9500</td>\n",
              "      <td>1920</td>\n",
              "      <td>29</td>\n",
              "    </tr>\n",
              "    <tr>\n",
              "      <th>2</th>\n",
              "      <td>0.993000</td>\n",
              "      <td>['Mamie Smith']</td>\n",
              "      <td>0.647</td>\n",
              "      <td>163827</td>\n",
              "      <td>0.186</td>\n",
              "      <td>0</td>\n",
              "      <td>11m7laMUgmOKqI3oYzuhne</td>\n",
              "      <td>0.000018</td>\n",
              "      <td>0</td>\n",
              "      <td>0.5190</td>\n",
              "      <td>-12.098</td>\n",
              "      <td>1</td>\n",
              "      <td>Golfing Papa</td>\n",
              "      <td>4</td>\n",
              "      <td>1920</td>\n",
              "      <td>0.1740</td>\n",
              "      <td>97.600</td>\n",
              "      <td>0.6890</td>\n",
              "      <td>1920</td>\n",
              "      <td>23</td>\n",
              "    </tr>\n",
              "    <tr>\n",
              "      <th>3</th>\n",
              "      <td>0.000173</td>\n",
              "      <td>['Oscar Velazquez']</td>\n",
              "      <td>0.730</td>\n",
              "      <td>422087</td>\n",
              "      <td>0.798</td>\n",
              "      <td>0</td>\n",
              "      <td>19Lc5SfJJ5O1oaxY0fpwfh</td>\n",
              "      <td>0.801000</td>\n",
              "      <td>2</td>\n",
              "      <td>0.1280</td>\n",
              "      <td>-7.311</td>\n",
              "      <td>1</td>\n",
              "      <td>True House Music - Xavier Santos &amp; Carlos Gomi...</td>\n",
              "      <td>17</td>\n",
              "      <td>1920-01-01</td>\n",
              "      <td>0.0425</td>\n",
              "      <td>127.997</td>\n",
              "      <td>0.0422</td>\n",
              "      <td>1920</td>\n",
              "      <td>31</td>\n",
              "    </tr>\n",
              "    <tr>\n",
              "      <th>4</th>\n",
              "      <td>0.295000</td>\n",
              "      <td>['Mixe']</td>\n",
              "      <td>0.704</td>\n",
              "      <td>165224</td>\n",
              "      <td>0.707</td>\n",
              "      <td>1</td>\n",
              "      <td>2hJjbsLCytGsnAHfdsLejp</td>\n",
              "      <td>0.000246</td>\n",
              "      <td>10</td>\n",
              "      <td>0.4020</td>\n",
              "      <td>-6.036</td>\n",
              "      <td>0</td>\n",
              "      <td>Xuniverxe</td>\n",
              "      <td>2</td>\n",
              "      <td>1920-10-01</td>\n",
              "      <td>0.0768</td>\n",
              "      <td>122.076</td>\n",
              "      <td>0.2990</td>\n",
              "      <td>1920</td>\n",
              "      <td>30</td>\n",
              "    </tr>\n",
              "  </tbody>\n",
              "</table>\n",
              "</div>"
            ],
            "text/plain": [
              "   acousticness                    artists  ...  year  cluster\n",
              "0      0.991000            ['Mamie Smith']  ...  1920       19\n",
              "1      0.643000  [\"Screamin' Jay Hawkins\"]  ...  1920       29\n",
              "2      0.993000            ['Mamie Smith']  ...  1920       23\n",
              "3      0.000173        ['Oscar Velazquez']  ...  1920       31\n",
              "4      0.295000                   ['Mixe']  ...  1920       30\n",
              "\n",
              "[5 rows x 20 columns]"
            ]
          },
          "metadata": {
            "tags": []
          },
          "execution_count": 96
        }
      ]
    },
    {
      "cell_type": "code",
      "metadata": {
        "colab": {
          "base_uri": "https://localhost:8080/",
          "height": 400
        },
        "id": "EyB3UceXIX9O",
        "outputId": "64fc47dc-17c6-4040-85fd-72052ead6105"
      },
      "source": [
        "data.head()"
      ],
      "execution_count": null,
      "outputs": [
        {
          "output_type": "execute_result",
          "data": {
            "text/html": [
              "<div>\n",
              "<style scoped>\n",
              "    .dataframe tbody tr th:only-of-type {\n",
              "        vertical-align: middle;\n",
              "    }\n",
              "\n",
              "    .dataframe tbody tr th {\n",
              "        vertical-align: top;\n",
              "    }\n",
              "\n",
              "    .dataframe thead th {\n",
              "        text-align: right;\n",
              "    }\n",
              "</style>\n",
              "<table border=\"1\" class=\"dataframe\">\n",
              "  <thead>\n",
              "    <tr style=\"text-align: right;\">\n",
              "      <th></th>\n",
              "      <th>acousticness</th>\n",
              "      <th>artists</th>\n",
              "      <th>danceability</th>\n",
              "      <th>duration_ms</th>\n",
              "      <th>energy</th>\n",
              "      <th>explicit</th>\n",
              "      <th>id</th>\n",
              "      <th>instrumentalness</th>\n",
              "      <th>key</th>\n",
              "      <th>liveness</th>\n",
              "      <th>loudness</th>\n",
              "      <th>mode</th>\n",
              "      <th>name</th>\n",
              "      <th>popularity</th>\n",
              "      <th>release_date</th>\n",
              "      <th>speechiness</th>\n",
              "      <th>tempo</th>\n",
              "      <th>valence</th>\n",
              "      <th>year</th>\n",
              "      <th>cluster</th>\n",
              "    </tr>\n",
              "  </thead>\n",
              "  <tbody>\n",
              "    <tr>\n",
              "      <th>0</th>\n",
              "      <td>0.991000</td>\n",
              "      <td>['Mamie Smith']</td>\n",
              "      <td>0.598</td>\n",
              "      <td>168333</td>\n",
              "      <td>0.224</td>\n",
              "      <td>0</td>\n",
              "      <td>0cS0A1fUEUd1EW3FcF8AEI</td>\n",
              "      <td>0.000522</td>\n",
              "      <td>5</td>\n",
              "      <td>0.3790</td>\n",
              "      <td>-12.628</td>\n",
              "      <td>0</td>\n",
              "      <td>Keep A Song In Your Soul</td>\n",
              "      <td>12</td>\n",
              "      <td>1920</td>\n",
              "      <td>0.0936</td>\n",
              "      <td>149.976</td>\n",
              "      <td>0.6340</td>\n",
              "      <td>1920</td>\n",
              "      <td>19</td>\n",
              "    </tr>\n",
              "    <tr>\n",
              "      <th>1</th>\n",
              "      <td>0.643000</td>\n",
              "      <td>[\"Screamin' Jay Hawkins\"]</td>\n",
              "      <td>0.852</td>\n",
              "      <td>150200</td>\n",
              "      <td>0.517</td>\n",
              "      <td>0</td>\n",
              "      <td>0hbkKFIJm7Z05H8Zl9w30f</td>\n",
              "      <td>0.026400</td>\n",
              "      <td>5</td>\n",
              "      <td>0.0809</td>\n",
              "      <td>-7.261</td>\n",
              "      <td>0</td>\n",
              "      <td>I Put A Spell On You</td>\n",
              "      <td>7</td>\n",
              "      <td>1920-01-05</td>\n",
              "      <td>0.0534</td>\n",
              "      <td>86.889</td>\n",
              "      <td>0.9500</td>\n",
              "      <td>1920</td>\n",
              "      <td>29</td>\n",
              "    </tr>\n",
              "    <tr>\n",
              "      <th>2</th>\n",
              "      <td>0.993000</td>\n",
              "      <td>['Mamie Smith']</td>\n",
              "      <td>0.647</td>\n",
              "      <td>163827</td>\n",
              "      <td>0.186</td>\n",
              "      <td>0</td>\n",
              "      <td>11m7laMUgmOKqI3oYzuhne</td>\n",
              "      <td>0.000018</td>\n",
              "      <td>0</td>\n",
              "      <td>0.5190</td>\n",
              "      <td>-12.098</td>\n",
              "      <td>1</td>\n",
              "      <td>Golfing Papa</td>\n",
              "      <td>4</td>\n",
              "      <td>1920</td>\n",
              "      <td>0.1740</td>\n",
              "      <td>97.600</td>\n",
              "      <td>0.6890</td>\n",
              "      <td>1920</td>\n",
              "      <td>23</td>\n",
              "    </tr>\n",
              "    <tr>\n",
              "      <th>3</th>\n",
              "      <td>0.000173</td>\n",
              "      <td>['Oscar Velazquez']</td>\n",
              "      <td>0.730</td>\n",
              "      <td>422087</td>\n",
              "      <td>0.798</td>\n",
              "      <td>0</td>\n",
              "      <td>19Lc5SfJJ5O1oaxY0fpwfh</td>\n",
              "      <td>0.801000</td>\n",
              "      <td>2</td>\n",
              "      <td>0.1280</td>\n",
              "      <td>-7.311</td>\n",
              "      <td>1</td>\n",
              "      <td>True House Music - Xavier Santos &amp; Carlos Gomi...</td>\n",
              "      <td>17</td>\n",
              "      <td>1920-01-01</td>\n",
              "      <td>0.0425</td>\n",
              "      <td>127.997</td>\n",
              "      <td>0.0422</td>\n",
              "      <td>1920</td>\n",
              "      <td>31</td>\n",
              "    </tr>\n",
              "    <tr>\n",
              "      <th>4</th>\n",
              "      <td>0.295000</td>\n",
              "      <td>['Mixe']</td>\n",
              "      <td>0.704</td>\n",
              "      <td>165224</td>\n",
              "      <td>0.707</td>\n",
              "      <td>1</td>\n",
              "      <td>2hJjbsLCytGsnAHfdsLejp</td>\n",
              "      <td>0.000246</td>\n",
              "      <td>10</td>\n",
              "      <td>0.4020</td>\n",
              "      <td>-6.036</td>\n",
              "      <td>0</td>\n",
              "      <td>Xuniverxe</td>\n",
              "      <td>2</td>\n",
              "      <td>1920-10-01</td>\n",
              "      <td>0.0768</td>\n",
              "      <td>122.076</td>\n",
              "      <td>0.2990</td>\n",
              "      <td>1920</td>\n",
              "      <td>30</td>\n",
              "    </tr>\n",
              "  </tbody>\n",
              "</table>\n",
              "</div>"
            ],
            "text/plain": [
              "   acousticness                    artists  ...  year  cluster\n",
              "0      0.991000            ['Mamie Smith']  ...  1920       19\n",
              "1      0.643000  [\"Screamin' Jay Hawkins\"]  ...  1920       29\n",
              "2      0.993000            ['Mamie Smith']  ...  1920       23\n",
              "3      0.000173        ['Oscar Velazquez']  ...  1920       31\n",
              "4      0.295000                   ['Mixe']  ...  1920       30\n",
              "\n",
              "[5 rows x 20 columns]"
            ]
          },
          "metadata": {
            "tags": []
          },
          "execution_count": 127
        }
      ]
    },
    {
      "cell_type": "markdown",
      "metadata": {
        "id": "3IgS-T3AURkk"
      },
      "source": [
        "Include the cluster in our dataset"
      ]
    },
    {
      "cell_type": "code",
      "metadata": {
        "id": "gHctzuYiEOJM"
      },
      "source": [
        "X_df.to_csv('/content/drive/MyDrive/Spotify_project/cluster.csv', index=False)"
      ],
      "execution_count": null,
      "outputs": []
    },
    {
      "cell_type": "markdown",
      "metadata": {
        "id": "vR55PfxpZD6U"
      },
      "source": [
        "## Create a prototype"
      ]
    },
    {
      "cell_type": "code",
      "metadata": {
        "id": "TrMkjGNeUgwU"
      },
      "source": [
        "#installing fuzzywuzzy for correcting misspelling\r\n",
        "#pip install fuzzywuzzy\r\n",
        "import fuzzywuzzy\r\n",
        "from fuzzywuzzy import fuzz\r\n",
        "from fuzzywuzzy import process\r\n",
        "import random\r\n",
        "from random import randint"
      ],
      "execution_count": null,
      "outputs": []
    },
    {
      "cell_type": "code",
      "metadata": {
        "id": "Vx1OEax7E_63"
      },
      "source": [
        "def prototype(scaler,km):\r\n",
        "    song = str(input (\"Enter your favourtie song:\"))\r\n",
        "    if song in hot_song['song'].tolist():\r\n",
        "      print(\"The song\",song,\"is a Hot Song!, therefore you should also like \", str(random.choice(hot_song['song'])), \"as it was also popular that week\")\r\n",
        "    else:\r\n",
        "      # look for the song in Spotify\r\n",
        "      features = sp.search(q=song, limit=1) \r\n",
        "      my_dict = sp.audio_features(features[\"tracks\"][\"items\"][0][\"uri\"])[0] #get the Spotify features of the song\r\n",
        "      my_dict_new = { key:[my_dict[key]] for key in list(my_dict.keys()) }\r\n",
        "      input_song = pd.DataFrame(my_dict_new)# get the dataframe of features\r\n",
        "      input_song = input_song.drop('time_signature',axis=1) #feature'time_signature' is not in our dataset\r\n",
        "      input_song = input_song.select_dtypes(np.number) #prepocess the input\r\n",
        "      song_scaled = scaler.transform(input_song) #scaling the features\r\n",
        "      song_cluster = km.predict(song_scaled)[0]\r\n",
        "      print('You favorite song is',song)\r\n",
        "      print('Therefore,I have a recommendation for you! ', random.choice( data[data['cluster'] == int(song_cluster)]['name'].values ))\r\n",
        "\r\n",
        "\r\n",
        "\r\n",
        "\r\n",
        "\r\n"
      ],
      "execution_count": null,
      "outputs": []
    },
    {
      "cell_type": "code",
      "metadata": {
        "colab": {
          "base_uri": "https://localhost:8080/"
        },
        "id": "EUVC3CI3QEXW",
        "outputId": "5bb66978-18b4-463a-890b-2aaee50f5c61"
      },
      "source": [
        "prototype(scaler,km)"
      ],
      "execution_count": null,
      "outputs": [
        {
          "output_type": "stream",
          "text": [
            "Enter your favourtie song:Wonderball\n",
            "You favorite song is Wonderball\n",
            "Therefore,I have a recommendation for you!  Dizzy Miss Lizzy - Live; 2008 Remaster\n"
          ],
          "name": "stdout"
        }
      ]
    },
    {
      "cell_type": "markdown",
      "metadata": {
        "id": "a0kKdC9UTdYj"
      },
      "source": [
        "# Actions for improvement"
      ]
    },
    {
      "cell_type": "code",
      "metadata": {
        "colab": {
          "base_uri": "https://localhost:8080/",
          "height": 86
        },
        "id": "xcV7JRCG2BD1",
        "outputId": "641dca2b-cde4-4144-c260-2cd564d2eb9a"
      },
      "source": [
        "#try to deal with the input typo\r\n",
        "import fuzzywuzzy\r\n",
        "from fuzzywuzzy import fuzz\r\n",
        "from fuzzywuzzy import process\r\n",
        "from random import randint\r\n",
        "def search_song(song_choice=input(\"Please choose song: \")):\r\n",
        "    request = song_choice\r\n",
        "    list_songs = [song for song in hot_song['song']]\r\n",
        "    x = process.extractOne(request, list_songs, scorer=fuzz.token_sort_ratio)\r\n",
        "    print(\"Did you mean this song? \" + str(x[0]))\r\n",
        "    correct = input(\"Please, choose yes or no: \")\r\n",
        "    if correct.lower != 'no':\r\n",
        "        x = hot_song.sample().values.flatten().tolist()\r\n",
        "        return \"Well, I think you might like this tune: {0} by {1}\".format(str(x[0]), str(x[1]))\r\n",
        "    else:\r\n",
        "        return \"Apologies, listen to some proper music and I can help!\"\r\n",
        "search_song('skinskiesg')\r\n",
        "\r\n"
      ],
      "execution_count": null,
      "outputs": [
        {
          "output_type": "stream",
          "text": [
            "Please choose song: skinskiesg\n",
            "Did you mean this song? Skin\n",
            "Please, choose yes or no: no\n"
          ],
          "name": "stdout"
        },
        {
          "output_type": "execute_result",
          "data": {
            "application/vnd.google.colaboratory.intrinsic+json": {
              "type": "string"
            },
            "text/plain": [
              "'Well, I think you might like this tune: The Good Ones by Gabby Barrett'"
            ]
          },
          "metadata": {
            "tags": []
          },
          "execution_count": 131
        }
      ]
    }
  ]
}